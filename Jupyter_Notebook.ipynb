{
 "cells": [
  {
   "cell_type": "markdown",
   "metadata": {},
   "source": [
    "<center>\n",
    "    <img src=\"https://cf-courses-data.s3.us.cloud-object-storage.appdomain.cloud/IBMDeveloperSkillsNetwork-DS0105EN-SkillsNetwork/labs/Module2/images/SN_web_lightmode.png\" width=\"300\" alt=\"cognitiveclass.ai logo\">\n",
    "</center>\n"
   ]
  },
  {
   "cell_type": "markdown",
   "metadata": {},
   "source": [
    "#### Add your code below following the instructions given in the course\n"
   ]
  },
  {
   "cell_type": "markdown",
   "metadata": {},
   "source": [
    "# My Jupyter Notebook on IBM Watson Studio"
   ]
  },
  {
   "cell_type": "markdown",
   "metadata": {},
   "source": [
    "**Fahad Almunyif** \n",
    "\n",
    "Data Scientist "
   ]
  },
  {
   "cell_type": "markdown",
   "metadata": {},
   "source": [
    "*I am interested in data science because the future of\n",
    "the feild and how the data currently being the new oil,\n",
    "and working as data scientist can make this availabe data\n",
    "so valuable*"
   ]
  },
  {
   "cell_type": "markdown",
   "metadata": {},
   "source": [
    "### The following code will show us simple mathematical equation which will give us the result of multiplying 10 by 100:"
   ]
  },
  {
   "cell_type": "code",
   "execution_count": 6,
   "metadata": {},
   "outputs": [
    {
     "data": {
      "text/plain": [
       "1000"
      ]
     },
     "execution_count": 6,
     "metadata": {},
     "output_type": "execute_result"
    }
   ],
   "source": [
    "10 * 100 "
   ]
  },
  {
   "cell_type": "markdown",
   "metadata": {
    "tags": []
   },
   "source": [
    "As requested in the assignment this cell should include the following:\n",
    "\n",
    "* Data \n",
    "* Science \n",
    "* is fantastic job\n",
    "\n",
    "## Data Science related jobs:\n",
    "\n",
    "\n",
    "**1. Data Engineering.**\n",
    "\n",
    "more about Data Engineering can be found at <a href=\"https://www.techtarget.com/searchdatamanagement/definition/data-engineer\" target=\"_blank\">this link</a>.\n",
    "\n",
    "\n",
    "**2. Data Analyst.**\n",
    "\n",
    "more about Data Analyst can be found at <a href=\"https://www.coursera.org/articles/what-does-a-data-analyst-do-a-career-guide\" target=\"_blank\">this link</a>.\n",
    "\n",
    "\n",
    "**3. ML Engineering.**\n",
    "\n",
    "more about ML Engineering can be found at <a href=\"https://www.techtarget.com/searchenterpriseai/definition/machine-learning-engineer-ML-engineer#:~:text=A%20machine%20learning%20engineer%20(ML,systems%20to%20automate%20predictive%20models.\" target=\"_blank\">this link</a>.\n",
    "\n",
    "\n",
    "\n",
    "\n",
    "## what data scientist do?\n",
    "![what data scient do?.](https://forum.huawei.com/enterprise/en/data/attachment/forum/202206/06/120955hsbbrtrt2rrhmbr6.jpg)"
   ]
  },
  {
   "cell_type": "code",
   "execution_count": null,
   "metadata": {},
   "outputs": [],
   "source": []
  }
 ],
 "metadata": {
  "kernelspec": {
   "display_name": "Python",
   "language": "python",
   "name": "conda-env-python-py"
  },
  "language_info": {
   "codemirror_mode": {
    "name": "ipython",
    "version": 3
   },
   "file_extension": ".py",
   "mimetype": "text/x-python",
   "name": "python",
   "nbconvert_exporter": "python",
   "pygments_lexer": "ipython3",
   "version": "3.7.12"
  }
 },
 "nbformat": 4,
 "nbformat_minor": 4
}
